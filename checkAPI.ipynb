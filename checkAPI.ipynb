{
 "cells": [
  {
   "cell_type": "markdown",
   "metadata": {},
   "source": [
    "## Erläuterung der API\n",
    "\n",
    "In diesem Workbook wird das Beispiel aus der [Dokumentation](http://docs.dev.comsulting.net/top-api-usage/apicalculations/) (ohne Tarife) zur Nutzung der **digital facts** vorgestellt und dann auf die **daily digital facts** adaptiert\n"
   ]
  },
  {
   "cell_type": "markdown",
   "metadata": {},
   "source": [
    "## API Token\n",
    "\n",
    "Der API Token ist für jeden Kunden unterschiedlich. Über ihn werden die Rechte für den Nutzer verwaltet.\n"
   ]
  },
  {
   "cell_type": "code",
   "execution_count": 1,
   "metadata": {},
   "outputs": [],
   "source": [
    "API_TOKEN = \"API_EXPLAIN\""
   ]
  },
  {
   "cell_type": "markdown",
   "metadata": {},
   "source": [
    "Die URL des Beispiels ist die \"alte\" API Route der digital facts: [main.top-api.io](https://main.top-api.io)"
   ]
  },
  {
   "cell_type": "code",
   "execution_count": 2,
   "metadata": {},
   "outputs": [],
   "source": [
    "API_URL = \"https://main.top-api.io\""
   ]
  },
  {
   "cell_type": "markdown",
   "metadata": {},
   "source": [
    "In den digital facts hatte jede monatliche Welle eine eigene ID. Dies ist die ID für die **internet facts 2016-01**"
   ]
  },
  {
   "cell_type": "code",
   "execution_count": 3,
   "metadata": {},
   "outputs": [],
   "source": [
    "ANALYSE_ID = '0810233601'"
   ]
  },
  {
   "cell_type": "markdown",
   "metadata": {},
   "source": [
    "Im Beispiel werden die Leistungswerte für das Medium **11FREUNDE.de** (digitales Gesamtangebot) berechnet."
   ]
  },
  {
   "cell_type": "code",
   "execution_count": 4,
   "metadata": {},
   "outputs": [],
   "source": [
    "MEDIUM_CODE = \"AGOF_dga11fre\""
   ]
  },
  {
   "cell_type": "code",
   "execution_count": 5,
   "metadata": {},
   "outputs": [],
   "source": [
    "# python module\n",
    "import json, yaml, requests\n",
    "from string import Template"
   ]
  },
  {
   "cell_type": "markdown",
   "metadata": {},
   "source": [
    "## Count-Route\n",
    "\n",
    "Diese Route wird zur Ermittlung der Leistungswerte genutzt. Hierüber können z.B. die Unique User eines Mediums ermittelt werden ([Dokumentation (englisch)](https://main.top-api.io/doc/api/analyses.api.html#id4) und [Live-API](https://main.top-api.io/swagger-ui/#!/analyses/countAnalysis))\n",
    "\n",
    "- URL: **/analyses/ID_DER_ANALYSE/**\n",
    "- Benötigte Parameter: **access_token**\n",
    "- Medium und alle weiteren Infos im Body\n",
    "- Wichtig: Header muss als Content-Type \"**application/json**\" haben\n"
   ]
  },
  {
   "cell_type": "code",
   "execution_count": 6,
   "metadata": {},
   "outputs": [],
   "source": [
    "countPath = Template(\"$url/analyses/$analysisID/count?access_token=$token\").substitute(\n",
    "\t{'url': API_URL, 'analysisID': ANALYSE_ID, 'token': API_TOKEN})"
   ]
  },
  {
   "cell_type": "markdown",
   "metadata": {},
   "source": [
    "Für die Berechnung benötigt die API den Typ des zu berechnenden Elementes ([Mögliche Typen](https://ddf.top-api.io/doc/api/addinfos.html#polymorphe-items-in-browser-abfragen-und-zahlanfragen)). Medien sind vom Typ \"MO\" (Medium Online). Der **key** identifiziert das Medium (jede Belegungseinheit hat einen eindeutigen Key).\n",
    "Die \"period\" ist der Zeitraum. **DM** steht für durchschnittlichen Monat."
   ]
  },
  {
   "cell_type": "code",
   "execution_count": 7,
   "metadata": {},
   "outputs": [],
   "source": [
    "bodyTemplate = \"\"\"\n",
    "\n",
    "   items:\n",
    "   - type: MO\n",
    "     key: $code\n",
    "   period: DM\n",
    "   info: true\n",
    "\"\"\""
   ]
  },
  {
   "cell_type": "code",
   "execution_count": 8,
   "metadata": {},
   "outputs": [
    {
     "name": "stdout",
     "output_type": "stream",
     "text": [
      "[\n",
      "  {\n",
      "    \"sample\": 1466.58453,\n",
      "    \"rawSample\": 1243.9,\n",
      "    \"totalAudience\": 2723,\n",
      "    \"contacts\": 6240870.36746,\n",
      "    \"percent\": 1.050931,\n",
      "    \"projection\": 727675.294647,\n",
      "    \"share\": 100,\n",
      "    \"index\": 100,\n",
      "    \"grp\": 9.013259,\n",
      "    \"ots\": 8.576449,\n",
      "    \"contactsShare\": 100,\n",
      "    \"grpIndex\": 100,\n",
      "    \"prefilter\": {\n",
      "      \"cases\": 139550.951,\n",
      "      \"projection\": 69240999.962853\n",
      "    },\n",
      "    \"audience\": {\n",
      "      \"cases\": 139550.951,\n",
      "      \"projection\": 69240999.962853\n",
      "    },\n",
      "    \"structure\": {\n",
      "      \"cases\": 1466.58453,\n",
      "      \"projection\": 727675.294647,\n",
      "      \"contacts\": 6240870.36746\n",
      "    },\n",
      "    \"tariff\": {\n",
      "      \"status\": \"TarifStatus_FormatNotFound\"\n",
      "    }\n",
      "  }\n",
      "]\n"
     ]
    }
   ],
   "source": [
    "body = yaml.load(Template(bodyTemplate).substitute({'code': MEDIUM_CODE}))\n",
    "\n",
    "response = requests.post(countPath, json=body, headers={'Content-Type': 'application/json'})\n",
    "\n",
    "print(json.dumps(json.loads(response.text), indent=2))"
   ]
  },
  {
   "cell_type": "markdown",
   "metadata": {},
   "source": [
    "Bedeutung der Werte:\n",
    "\n",
    "Key | Bedeutung/Bezeichung | Einheit\n",
    "--- | -------------------- | ---------\n",
    "projection | Unique User | Personen\n",
    "contacts | Kontakte | Kontakte\n",
    "\n",
    "Hier die Darstellung der Werte in TOPModular\n",
    "\n",
    "![](assets/example01_topmodular.jpeg)\n",
    "\n",
    "Vollständiges Script: [countAPI.py](assets/countAPI.py)"
   ]
  },
  {
   "cell_type": "markdown",
   "metadata": {},
   "source": [
    "# Daily digital facts\n",
    "\n",
    "Bei der Umstellung auf die Daily digital facts ändert sich Folgendes:"
   ]
  },
  {
   "cell_type": "markdown",
   "metadata": {},
   "source": [
    "Die API der daily digital facts ist unter [ddf.top-api.io](https://ddf.top-api.io) erreichbar."
   ]
  },
  {
   "cell_type": "code",
   "execution_count": 9,
   "metadata": {},
   "outputs": [],
   "source": [
    "API_URL = \"https://ddf.top-api.io\""
   ]
  },
  {
   "cell_type": "markdown",
   "metadata": {},
   "source": [
    "Die AnalysenID der daily digital facts ist: \n",
    "    \n",
    "- 0920013702 für die Grundgesamtheit 10+\n",
    "- 0920023702 für die Grundgesamtheit 14+"
   ]
  },
  {
   "cell_type": "code",
   "execution_count": 10,
   "metadata": {},
   "outputs": [],
   "source": [
    "ANALYSE_ID = '0920013702' # 10+\n",
    "\n",
    "API_TOKEN = \"TOKEN\" # eigenes TOKEN einsetzen\n",
    "countPath = Template(\"$url/analyses/$analysisID/count?access_token=$token\").substitute(\n",
    "\t{'url': API_URL, 'analysisID': ANALYSE_ID, 'token': API_TOKEN})"
   ]
  },
  {
   "cell_type": "markdown",
   "metadata": {},
   "source": [
    "## Datum\n",
    "\n",
    "Für die Berechung in der daily digital fact muss immer ein Datumsbereich angegeben werden ([API-Route](https://ddf.top-api.io/swagger-ui/#!/analyses/countAnalysis)). Dies kann ein einzelner Tag oder ein Bereich sein. Das Datum wird im JJJJ-MM-TT Format(nach [ISO 8601](https://de.wikipedia.org/wiki/ISO_8601)) angegeben, Beispiele:\n",
    "\n",
    "- 12.12.2017 => 2017-12-12\n",
    "- November 2017 => 2017-11-01/2017-11-30\n",
    "- Erster und dritter Dezember => [\"2017-12-01\", \"2017-12-03\"]\n"
   ]
  },
  {
   "cell_type": "code",
   "execution_count": 11,
   "metadata": {},
   "outputs": [],
   "source": [
    "body[\"dates\"] = [\"2017-11-01/2017-11-30\"] # November 2017"
   ]
  },
  {
   "cell_type": "markdown",
   "metadata": {},
   "source": [
    "### Zeiträume in der daily digital facts\n",
    "\n",
    "Key | Zeitraum\n",
    "--- | ---------\n",
    "KZ  | Konkreter Zeitraum\n",
    "DD  | Durchschnittlicher Tag\n",
    "DW  | Durchschnittliche Woche\n",
    "DM  | Durchschnittlicher Monat\n",
    "\n",
    "Bei den Durchschnittswerten muss die Zeitspanne mehrere Einheiten umfassen"
   ]
  },
  {
   "cell_type": "code",
   "execution_count": 12,
   "metadata": {},
   "outputs": [],
   "source": [
    "body[\"period\"] = \"KZ\""
   ]
  },
  {
   "cell_type": "code",
   "execution_count": 13,
   "metadata": {},
   "outputs": [
    {
     "name": "stdout",
     "output_type": "stream",
     "text": [
      "[\n",
      "  {\n",
      "    \"_key\": \"AGOF_dga11fre\",\n",
      "    \"sample\": 1825.154,\n",
      "    \"rawSample\": 2298,\n",
      "    \"totalAudience\": 2298,\n",
      "    \"totalAudienceTotal\": 2298,\n",
      "    \"contacts\": 11103886.82266,\n",
      "    \"percent\": 0.993179,\n",
      "    \"projection\": 724266.057255,\n",
      "    \"share\": 100,\n",
      "    \"index\": 100,\n",
      "    \"grp\": 15.226656,\n",
      "    \"ots\": 15.331226,\n",
      "    \"contactsShare\": 100,\n",
      "    \"grpIndex\": 100,\n",
      "    \"prefilter\": {\n",
      "      \"cases\": 183768.836,\n",
      "      \"projection\": 72924000\n",
      "    },\n",
      "    \"audience\": {\n",
      "      \"cases\": 183768.836,\n",
      "      \"projection\": 72924000\n",
      "    },\n",
      "    \"structure\": {\n",
      "      \"cases\": 1825.154,\n",
      "      \"projection\": 724266.057255,\n",
      "      \"contacts\": 11103886.82266\n",
      "    },\n",
      "    \"tariff\": {\n",
      "      \"status\": \"TarifStatus_FormatNotFound\"\n",
      "    }\n",
      "  }\n",
      "]\n"
     ]
    }
   ],
   "source": [
    "response = requests.post(countPath, json=body, headers={'Content-Type': 'application/json'})\n",
    "\n",
    "print(json.dumps(json.loads(response.text), indent=2))"
   ]
  },
  {
   "cell_type": "markdown",
   "metadata": {},
   "source": [
    "## Anderes Angebot\n",
    "\n",
    "Um das digitale Gesamtangebot \"**SPIEGEL ONLINE**\" zu berechnen, wird der Key des Mediums ersetzt:"
   ]
  },
  {
   "cell_type": "code",
   "execution_count": 14,
   "metadata": {},
   "outputs": [
    {
     "name": "stdout",
     "output_type": "stream",
     "text": [
      "[\n",
      "  {\n",
      "    \"_key\": \"AGOF_dgaspon\",\n",
      "    \"sample\": 53828.1,\n",
      "    \"rawSample\": 61199,\n",
      "    \"totalAudience\": 61199,\n",
      "    \"totalAudienceTotal\": 61199,\n",
      "    \"contacts\": 846400639.303912,\n",
      "    \"percent\": 29.291201,\n",
      "    \"projection\": 21360315.763221,\n",
      "    \"share\": 100,\n",
      "    \"index\": 100,\n",
      "    \"grp\": 1160.66129,\n",
      "    \"ots\": 39.624912,\n",
      "    \"contactsShare\": 100,\n",
      "    \"grpIndex\": 100,\n",
      "    \"prefilter\": {\n",
      "      \"cases\": 183768.836,\n",
      "      \"projection\": 72924000\n",
      "    },\n",
      "    \"audience\": {\n",
      "      \"cases\": 183768.836,\n",
      "      \"projection\": 72924000\n",
      "    },\n",
      "    \"structure\": {\n",
      "      \"cases\": 53828.1,\n",
      "      \"projection\": 21360315.763221,\n",
      "      \"contacts\": 846400639.303912\n",
      "    },\n",
      "    \"tariff\": {\n",
      "      \"status\": \"TarifStatus_FormatNotFound\"\n",
      "    }\n",
      "  }\n",
      "]\n"
     ]
    }
   ],
   "source": [
    "body[\"items\"][0]['key'] = \"AGOF_dgaspon\"\n",
    "\n",
    "response = requests.post(countPath, json=body, headers={'Content-Type': 'application/json'})\n",
    "print(json.dumps(json.loads(response.text), indent=2))"
   ]
  }
 ],
 "metadata": {
  "kernelspec": {
   "display_name": "Python 3",
   "language": "python",
   "name": "python3"
  },
  "language_info": {
   "codemirror_mode": {
    "name": "ipython",
    "version": 3
   },
   "file_extension": ".py",
   "mimetype": "text/x-python",
   "name": "python",
   "nbconvert_exporter": "python",
   "pygments_lexer": "ipython3",
   "version": "3.6.3"
  }
 },
 "nbformat": 4,
 "nbformat_minor": 2
}
